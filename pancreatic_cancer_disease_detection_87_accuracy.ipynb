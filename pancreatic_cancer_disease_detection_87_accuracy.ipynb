{
  "cells": [
    {
      "cell_type": "markdown",
      "metadata": {
        "id": "view-in-github",
        "colab_type": "text"
      },
      "source": [
        "<a href=\"https://colab.research.google.com/github/Govindkaranam/Govind/blob/main/pancreatic_cancer_disease_detection_87_accuracy.ipynb\" target=\"_parent\"><img src=\"https://colab.research.google.com/assets/colab-badge.svg\" alt=\"Open In Colab\"/></a>"
      ]
    },
    {
      "cell_type": "code",
      "execution_count": 40,
      "id": "40bdce16",
      "metadata": {
        "_cell_guid": "b1076dfc-b9ad-4769-8c92-a6c4dae69d19",
        "_uuid": "8f2839f25d086af736a60e9eeb907d3b93b6e0e5",
        "execution": {
          "iopub.execute_input": "2023-05-01T23:59:18.244030Z",
          "iopub.status.busy": "2023-05-01T23:59:18.243149Z",
          "iopub.status.idle": "2023-05-01T23:59:18.253672Z",
          "shell.execute_reply": "2023-05-01T23:59:18.252396Z"
        },
        "papermill": {
          "duration": 0.026321,
          "end_time": "2023-05-01T23:59:18.256436",
          "exception": false,
          "start_time": "2023-05-01T23:59:18.230115",
          "status": "completed"
        },
        "tags": [],
        "id": "40bdce16"
      },
      "outputs": [],
      "source": [
        "import numpy as np \n",
        "import pandas as pd \n",
        "import matplotlib.pyplot as plt"
      ]
    },
    {
      "cell_type": "code",
      "execution_count": 41,
      "id": "15ff0c0a",
      "metadata": {
        "execution": {
          "iopub.execute_input": "2023-05-01T23:59:18.278037Z",
          "iopub.status.busy": "2023-05-01T23:59:18.277625Z",
          "iopub.status.idle": "2023-05-01T23:59:18.301596Z",
          "shell.execute_reply": "2023-05-01T23:59:18.300377Z"
        },
        "papermill": {
          "duration": 0.03779,
          "end_time": "2023-05-01T23:59:18.304283",
          "exception": false,
          "start_time": "2023-05-01T23:59:18.266493",
          "status": "completed"
        },
        "tags": [],
        "id": "15ff0c0a"
      },
      "outputs": [],
      "source": [
        "df=pd.read_csv(\"/content/drive/MyDrive/Projects/NLP/Machine_Learning/Debernardi et al 2020 data.csv\")"
      ]
    },
    {
      "cell_type": "code",
      "source": [
        "from google.colab import drive\n",
        "drive.mount('/content/drive')"
      ],
      "metadata": {
        "colab": {
          "base_uri": "https://localhost:8080/"
        },
        "id": "uDBhImETOnN1",
        "outputId": "a4b1d7b5-d2bf-4f66-ed11-9f056e658fb5"
      },
      "id": "uDBhImETOnN1",
      "execution_count": 42,
      "outputs": [
        {
          "output_type": "stream",
          "name": "stdout",
          "text": [
            "Drive already mounted at /content/drive; to attempt to forcibly remount, call drive.mount(\"/content/drive\", force_remount=True).\n"
          ]
        }
      ]
    },
    {
      "cell_type": "markdown",
      "id": "c5c3395b",
      "metadata": {
        "papermill": {
          "duration": 0.009653,
          "end_time": "2023-05-01T23:59:18.323784",
          "exception": false,
          "start_time": "2023-05-01T23:59:18.314131",
          "status": "completed"
        },
        "tags": [],
        "id": "c5c3395b"
      },
      "source": [
        "## Data Preprocessing"
      ]
    },
    {
      "cell_type": "code",
      "execution_count": 43,
      "id": "e599405e",
      "metadata": {
        "execution": {
          "iopub.execute_input": "2023-05-01T23:59:18.346857Z",
          "iopub.status.busy": "2023-05-01T23:59:18.346439Z",
          "iopub.status.idle": "2023-05-01T23:59:18.376986Z",
          "shell.execute_reply": "2023-05-01T23:59:18.375746Z"
        },
        "papermill": {
          "duration": 0.045899,
          "end_time": "2023-05-01T23:59:18.379698",
          "exception": false,
          "start_time": "2023-05-01T23:59:18.333799",
          "status": "completed"
        },
        "tags": [],
        "colab": {
          "base_uri": "https://localhost:8080/"
        },
        "id": "e599405e",
        "outputId": "471ab7bf-c413-4048-fd93-ad13793f279a"
      },
      "outputs": [
        {
          "output_type": "stream",
          "name": "stdout",
          "text": [
            "<class 'pandas.core.frame.DataFrame'>\n",
            "RangeIndex: 590 entries, 0 to 589\n",
            "Data columns (total 14 columns):\n",
            " #   Column                   Non-Null Count  Dtype  \n",
            "---  ------                   --------------  -----  \n",
            " 0   sample_id                590 non-null    object \n",
            " 1   patient_cohort           590 non-null    object \n",
            " 2   sample_origin            590 non-null    object \n",
            " 3   age                      590 non-null    int64  \n",
            " 4   sex                      590 non-null    object \n",
            " 5   diagnosis                590 non-null    int64  \n",
            " 6   stage                    199 non-null    object \n",
            " 7   benign_sample_diagnosis  208 non-null    object \n",
            " 8   plasma_CA19_9            350 non-null    float64\n",
            " 9   creatinine               590 non-null    float64\n",
            " 10  LYVE1                    590 non-null    float64\n",
            " 11  REG1B                    590 non-null    float64\n",
            " 12  TFF1                     590 non-null    float64\n",
            " 13  REG1A                    306 non-null    float64\n",
            "dtypes: float64(6), int64(2), object(6)\n",
            "memory usage: 64.7+ KB\n"
          ]
        }
      ],
      "source": [
        "df.info()"
      ]
    },
    {
      "cell_type": "code",
      "execution_count": 44,
      "id": "bbf12a95",
      "metadata": {
        "execution": {
          "iopub.execute_input": "2023-05-01T23:59:18.401286Z",
          "iopub.status.busy": "2023-05-01T23:59:18.400832Z",
          "iopub.status.idle": "2023-05-01T23:59:18.412677Z",
          "shell.execute_reply": "2023-05-01T23:59:18.411470Z"
        },
        "papermill": {
          "duration": 0.025195,
          "end_time": "2023-05-01T23:59:18.414844",
          "exception": false,
          "start_time": "2023-05-01T23:59:18.389649",
          "status": "completed"
        },
        "tags": [],
        "colab": {
          "base_uri": "https://localhost:8080/"
        },
        "id": "bbf12a95",
        "outputId": "cccc3ac6-2bc3-475e-9ae4-4f6abb0db6c6"
      },
      "outputs": [
        {
          "output_type": "execute_result",
          "data": {
            "text/plain": [
              "sample_id                    0\n",
              "patient_cohort               0\n",
              "sample_origin                0\n",
              "age                          0\n",
              "sex                          0\n",
              "diagnosis                    0\n",
              "stage                      391\n",
              "benign_sample_diagnosis    382\n",
              "plasma_CA19_9              240\n",
              "creatinine                   0\n",
              "LYVE1                        0\n",
              "REG1B                        0\n",
              "TFF1                         0\n",
              "REG1A                      284\n",
              "dtype: int64"
            ]
          },
          "metadata": {},
          "execution_count": 44
        }
      ],
      "source": [
        "df.isnull().sum()"
      ]
    },
    {
      "cell_type": "code",
      "execution_count": 45,
      "id": "9e675b4a",
      "metadata": {
        "execution": {
          "iopub.execute_input": "2023-05-01T23:59:18.436713Z",
          "iopub.status.busy": "2023-05-01T23:59:18.436281Z",
          "iopub.status.idle": "2023-05-01T23:59:18.699893Z",
          "shell.execute_reply": "2023-05-01T23:59:18.698985Z"
        },
        "papermill": {
          "duration": 0.27746,
          "end_time": "2023-05-01T23:59:18.702217",
          "exception": false,
          "start_time": "2023-05-01T23:59:18.424757",
          "status": "completed"
        },
        "tags": [],
        "colab": {
          "base_uri": "https://localhost:8080/",
          "height": 461
        },
        "id": "9e675b4a",
        "outputId": "e5ac37c5-3be6-4261-e558-abcb09a034d3"
      },
      "outputs": [
        {
          "output_type": "execute_result",
          "data": {
            "text/plain": [
              "<Axes: xlabel='diagnosis'>"
            ]
          },
          "metadata": {},
          "execution_count": 45
        },
        {
          "output_type": "display_data",
          "data": {
            "text/plain": [
              "<Figure size 640x480 with 1 Axes>"
            ],
            "image/png": "[encoded data removed]"
          },
          "metadata": {}
        }
      ],
      "source": [
        "(df.groupby('diagnosis')\n",
        "   ['sample_id'].nunique()\n",
        "   .plot.bar()\n",
        ")"
      ]
    },
    {
      "cell_type": "code",
      "execution_count": 46,
      "id": "06594c48",
      "metadata": {
        "execution": {
          "iopub.execute_input": "2023-05-01T23:59:18.725047Z",
          "iopub.status.busy": "2023-05-01T23:59:18.724398Z",
          "iopub.status.idle": "2023-05-01T23:59:18.731516Z",
          "shell.execute_reply": "2023-05-01T23:59:18.730268Z"
        },
        "papermill": {
          "duration": 0.021439,
          "end_time": "2023-05-01T23:59:18.734034",
          "exception": false,
          "start_time": "2023-05-01T23:59:18.712595",
          "status": "completed"
        },
        "tags": [],
        "id": "06594c48"
      },
      "outputs": [],
      "source": [
        "df=df.drop(\"sample_id\",axis=1)"
      ]
    },
    {
      "cell_type": "code",
      "execution_count": 47,
      "id": "3bfff1cc",
      "metadata": {
        "execution": {
          "iopub.execute_input": "2023-05-01T23:59:18.757168Z",
          "iopub.status.busy": "2023-05-01T23:59:18.756753Z",
          "iopub.status.idle": "2023-05-01T23:59:18.770910Z",
          "shell.execute_reply": "2023-05-01T23:59:18.769519Z"
        },
        "papermill": {
          "duration": 0.028906,
          "end_time": "2023-05-01T23:59:18.773249",
          "exception": false,
          "start_time": "2023-05-01T23:59:18.744343",
          "status": "completed"
        },
        "tags": [],
        "colab": {
          "base_uri": "https://localhost:8080/"
        },
        "id": "3bfff1cc",
        "outputId": "55427ec3-54c4-42d3-deac-4621708eb872"
      },
      "outputs": [
        {
          "output_type": "stream",
          "name": "stdout",
          "text": [
            "<class 'pandas.core.frame.DataFrame'>\n",
            "RangeIndex: 590 entries, 0 to 589\n",
            "Data columns (total 13 columns):\n",
            " #   Column                   Non-Null Count  Dtype  \n",
            "---  ------                   --------------  -----  \n",
            " 0   patient_cohort           590 non-null    object \n",
            " 1   sample_origin            590 non-null    object \n",
            " 2   age                      590 non-null    int64  \n",
            " 3   sex                      590 non-null    object \n",
            " 4   diagnosis                590 non-null    int64  \n",
            " 5   stage                    199 non-null    object \n",
            " 6   benign_sample_diagnosis  208 non-null    object \n",
            " 7   plasma_CA19_9            350 non-null    float64\n",
            " 8   creatinine               590 non-null    float64\n",
            " 9   LYVE1                    590 non-null    float64\n",
            " 10  REG1B                    590 non-null    float64\n",
            " 11  TFF1                     590 non-null    float64\n",
            " 12  REG1A                    306 non-null    float64\n",
            "dtypes: float64(6), int64(2), object(5)\n",
            "memory usage: 60.0+ KB\n"
          ]
        }
      ],
      "source": [
        "df.info()"
      ]
    },
    {
      "cell_type": "code",
      "execution_count": 48,
      "id": "bcc25a0c",
      "metadata": {
        "execution": {
          "iopub.execute_input": "2023-05-01T23:59:18.796680Z",
          "iopub.status.busy": "2023-05-01T23:59:18.795373Z",
          "iopub.status.idle": "2023-05-01T23:59:18.802845Z",
          "shell.execute_reply": "2023-05-01T23:59:18.801808Z"
        },
        "papermill": {
          "duration": 0.021741,
          "end_time": "2023-05-01T23:59:18.805345",
          "exception": false,
          "start_time": "2023-05-01T23:59:18.783604",
          "status": "completed"
        },
        "tags": [],
        "colab": {
          "base_uri": "https://localhost:8080/"
        },
        "id": "bcc25a0c",
        "outputId": "87352504-ef5f-414c-df7b-e9ec785465c2"
      },
      "outputs": [
        {
          "output_type": "execute_result",
          "data": {
            "text/plain": [
              "array(['Cohort1', 'Cohort2'], dtype=object)"
            ]
          },
          "metadata": {},
          "execution_count": 48
        }
      ],
      "source": [
        "df[\"patient_cohort\"].unique()"
      ]
    },
    {
      "cell_type": "code",
      "execution_count": 49,
      "id": "81c2b568",
      "metadata": {
        "execution": {
          "iopub.execute_input": "2023-05-01T23:59:18.829176Z",
          "iopub.status.busy": "2023-05-01T23:59:18.828779Z",
          "iopub.status.idle": "2023-05-01T23:59:19.756519Z",
          "shell.execute_reply": "2023-05-01T23:59:19.755352Z"
        },
        "papermill": {
          "duration": 0.943131,
          "end_time": "2023-05-01T23:59:19.759406",
          "exception": false,
          "start_time": "2023-05-01T23:59:18.816275",
          "status": "completed"
        },
        "tags": [],
        "id": "81c2b568"
      },
      "outputs": [],
      "source": [
        "#labelencoding and converting to int\n",
        "# Import label encoder\n",
        "from sklearn import preprocessing\n",
        "  \n",
        "label_encoder = preprocessing.LabelEncoder()\n",
        "\n",
        "df['patient_cohort']= label_encoder.fit_transform(df['patient_cohort'])\n"
      ]
    },
    {
      "cell_type": "code",
      "execution_count": 50,
      "id": "96d26e78",
      "metadata": {
        "execution": {
          "iopub.execute_input": "2023-05-01T23:59:19.782284Z",
          "iopub.status.busy": "2023-05-01T23:59:19.781887Z",
          "iopub.status.idle": "2023-05-01T23:59:19.787975Z",
          "shell.execute_reply": "2023-05-01T23:59:19.786736Z"
        },
        "papermill": {
          "duration": 0.020564,
          "end_time": "2023-05-01T23:59:19.790453",
          "exception": false,
          "start_time": "2023-05-01T23:59:19.769889",
          "status": "completed"
        },
        "tags": [],
        "id": "96d26e78"
      },
      "outputs": [],
      "source": [
        "df['patient_cohort']=df['patient_cohort'].astype(int)"
      ]
    },
    {
      "cell_type": "code",
      "execution_count": 51,
      "id": "a41351c7",
      "metadata": {
        "execution": {
          "iopub.execute_input": "2023-05-01T23:59:19.813703Z",
          "iopub.status.busy": "2023-05-01T23:59:19.812769Z",
          "iopub.status.idle": "2023-05-01T23:59:19.819964Z",
          "shell.execute_reply": "2023-05-01T23:59:19.819035Z"
        },
        "papermill": {
          "duration": 0.021149,
          "end_time": "2023-05-01T23:59:19.822034",
          "exception": false,
          "start_time": "2023-05-01T23:59:19.800885",
          "status": "completed"
        },
        "tags": [],
        "colab": {
          "base_uri": "https://localhost:8080/"
        },
        "id": "a41351c7",
        "outputId": "854ef113-4374-471a-b5fa-7f042cf93c8b"
      },
      "outputs": [
        {
          "output_type": "execute_result",
          "data": {
            "text/plain": [
              "array(['BPTB', 'LIV', 'ESP', 'UCL'], dtype=object)"
            ]
          },
          "metadata": {},
          "execution_count": 51
        }
      ],
      "source": [
        "df['sample_origin'].unique()"
      ]
    },
    {
      "cell_type": "code",
      "execution_count": 52,
      "id": "6c768b46",
      "metadata": {
        "execution": {
          "iopub.execute_input": "2023-05-01T23:59:19.845265Z",
          "iopub.status.busy": "2023-05-01T23:59:19.844841Z",
          "iopub.status.idle": "2023-05-01T23:59:19.852474Z",
          "shell.execute_reply": "2023-05-01T23:59:19.851201Z"
        },
        "papermill": {
          "duration": 0.022326,
          "end_time": "2023-05-01T23:59:19.855064",
          "exception": false,
          "start_time": "2023-05-01T23:59:19.832738",
          "status": "completed"
        },
        "tags": [],
        "id": "6c768b46"
      },
      "outputs": [],
      "source": [
        "df['sample_origin']= label_encoder.fit_transform(df['sample_origin'])\n",
        "df['sample_origin']=df['sample_origin'].astype(int)"
      ]
    },
    {
      "cell_type": "code",
      "execution_count": 53,
      "id": "0478cbc9",
      "metadata": {
        "execution": {
          "iopub.execute_input": "2023-05-01T23:59:19.878366Z",
          "iopub.status.busy": "2023-05-01T23:59:19.877922Z",
          "iopub.status.idle": "2023-05-01T23:59:19.885120Z",
          "shell.execute_reply": "2023-05-01T23:59:19.883847Z"
        },
        "papermill": {
          "duration": 0.021648,
          "end_time": "2023-05-01T23:59:19.887379",
          "exception": false,
          "start_time": "2023-05-01T23:59:19.865731",
          "status": "completed"
        },
        "tags": [],
        "id": "0478cbc9"
      },
      "outputs": [],
      "source": [
        "df['sex']= label_encoder.fit_transform(df['sex'])\n",
        "df['sex']=df['sex'].astype(int)"
      ]
    },
    {
      "cell_type": "code",
      "execution_count": 54,
      "id": "e137302f",
      "metadata": {
        "execution": {
          "iopub.execute_input": "2023-05-01T23:59:19.911187Z",
          "iopub.status.busy": "2023-05-01T23:59:19.910740Z",
          "iopub.status.idle": "2023-05-01T23:59:19.926872Z",
          "shell.execute_reply": "2023-05-01T23:59:19.925480Z"
        },
        "papermill": {
          "duration": 0.031221,
          "end_time": "2023-05-01T23:59:19.929497",
          "exception": false,
          "start_time": "2023-05-01T23:59:19.898276",
          "status": "completed"
        },
        "tags": [],
        "colab": {
          "base_uri": "https://localhost:8080/"
        },
        "id": "e137302f",
        "outputId": "53989720-21f9-49cd-ad32-bb1e305bd556"
      },
      "outputs": [
        {
          "output_type": "stream",
          "name": "stdout",
          "text": [
            "<class 'pandas.core.frame.DataFrame'>\n",
            "RangeIndex: 590 entries, 0 to 589\n",
            "Data columns (total 13 columns):\n",
            " #   Column                   Non-Null Count  Dtype  \n",
            "---  ------                   --------------  -----  \n",
            " 0   patient_cohort           590 non-null    int64  \n",
            " 1   sample_origin            590 non-null    int64  \n",
            " 2   age                      590 non-null    int64  \n",
            " 3   sex                      590 non-null    int64  \n",
            " 4   diagnosis                590 non-null    int64  \n",
            " 5   stage                    199 non-null    object \n",
            " 6   benign_sample_diagnosis  208 non-null    object \n",
            " 7   plasma_CA19_9            350 non-null    float64\n",
            " 8   creatinine               590 non-null    float64\n",
            " 9   LYVE1                    590 non-null    float64\n",
            " 10  REG1B                    590 non-null    float64\n",
            " 11  TFF1                     590 non-null    float64\n",
            " 12  REG1A                    306 non-null    float64\n",
            "dtypes: float64(6), int64(5), object(2)\n",
            "memory usage: 60.0+ KB\n"
          ]
        }
      ],
      "source": [
        "df.info()"
      ]
    },
    {
      "cell_type": "code",
      "execution_count": 55,
      "id": "6c2b0dac",
      "metadata": {
        "execution": {
          "iopub.execute_input": "2023-05-01T23:59:19.953646Z",
          "iopub.status.busy": "2023-05-01T23:59:19.953164Z",
          "iopub.status.idle": "2023-05-01T23:59:19.963086Z",
          "shell.execute_reply": "2023-05-01T23:59:19.961772Z"
        },
        "papermill": {
          "duration": 0.024883,
          "end_time": "2023-05-01T23:59:19.965521",
          "exception": false,
          "start_time": "2023-05-01T23:59:19.940638",
          "status": "completed"
        },
        "tags": [],
        "colab": {
          "base_uri": "https://localhost:8080/"
        },
        "id": "6c2b0dac",
        "outputId": "673cd8fb-9ab1-4e8c-a482-5b469e6c7775"
      },
      "outputs": [
        {
          "output_type": "execute_result",
          "data": {
            "text/plain": [
              "array([1, 2, 3])"
            ]
          },
          "metadata": {},
          "execution_count": 55
        }
      ],
      "source": [
        "df['diagnosis'].unique()"
      ]
    },
    {
      "cell_type": "code",
      "execution_count": 56,
      "id": "80e12746",
      "metadata": {
        "execution": {
          "iopub.execute_input": "2023-05-01T23:59:19.989806Z",
          "iopub.status.busy": "2023-05-01T23:59:19.989403Z",
          "iopub.status.idle": "2023-05-01T23:59:19.995400Z",
          "shell.execute_reply": "2023-05-01T23:59:19.994123Z"
        },
        "papermill": {
          "duration": 0.021498,
          "end_time": "2023-05-01T23:59:19.997858",
          "exception": false,
          "start_time": "2023-05-01T23:59:19.976360",
          "status": "completed"
        },
        "tags": [],
        "id": "80e12746"
      },
      "outputs": [],
      "source": [
        "df['stage']=df['stage'].fillna('0')"
      ]
    },
    {
      "cell_type": "code",
      "execution_count": 57,
      "id": "dea9c458",
      "metadata": {
        "execution": {
          "iopub.execute_input": "2023-05-01T23:59:20.022081Z",
          "iopub.status.busy": "2023-05-01T23:59:20.021159Z",
          "iopub.status.idle": "2023-05-01T23:59:20.029382Z",
          "shell.execute_reply": "2023-05-01T23:59:20.028218Z"
        },
        "papermill": {
          "duration": 0.02293,
          "end_time": "2023-05-01T23:59:20.031716",
          "exception": false,
          "start_time": "2023-05-01T23:59:20.008786",
          "status": "completed"
        },
        "tags": [],
        "colab": {
          "base_uri": "https://localhost:8080/"
        },
        "id": "dea9c458",
        "outputId": "29680d89-d9da-4ba2-a333-ef190bce6afe"
      },
      "outputs": [
        {
          "output_type": "execute_result",
          "data": {
            "text/plain": [
              "array(['0', 'I', 'IA', 'IB', 'II', 'IIA', 'IIB', 'III', 'IV'],\n",
              "      dtype=object)"
            ]
          },
          "metadata": {},
          "execution_count": 57
        }
      ],
      "source": [
        "df['stage'].unique()"
      ]
    },
    {
      "cell_type": "code",
      "execution_count": 58,
      "id": "770da0d2",
      "metadata": {
        "execution": {
          "iopub.execute_input": "2023-05-01T23:59:20.055788Z",
          "iopub.status.busy": "2023-05-01T23:59:20.055009Z",
          "iopub.status.idle": "2023-05-01T23:59:20.062185Z",
          "shell.execute_reply": "2023-05-01T23:59:20.061034Z"
        },
        "papermill": {
          "duration": 0.021847,
          "end_time": "2023-05-01T23:59:20.064475",
          "exception": false,
          "start_time": "2023-05-01T23:59:20.042628",
          "status": "completed"
        },
        "tags": [],
        "id": "770da0d2"
      },
      "outputs": [],
      "source": [
        "df['stage']= label_encoder.fit_transform(df['stage'])\n",
        "df['stage']=df['stage'].astype(int)"
      ]
    },
    {
      "cell_type": "code",
      "execution_count": 59,
      "id": "5b2b8b1a",
      "metadata": {
        "execution": {
          "iopub.execute_input": "2023-05-01T23:59:20.088751Z",
          "iopub.status.busy": "2023-05-01T23:59:20.087758Z",
          "iopub.status.idle": "2023-05-01T23:59:20.095164Z",
          "shell.execute_reply": "2023-05-01T23:59:20.094339Z"
        },
        "papermill": {
          "duration": 0.021877,
          "end_time": "2023-05-01T23:59:20.097269",
          "exception": false,
          "start_time": "2023-05-01T23:59:20.075392",
          "status": "completed"
        },
        "tags": [],
        "colab": {
          "base_uri": "https://localhost:8080/"
        },
        "id": "5b2b8b1a",
        "outputId": "15ba0751-10b8-4fff-f050-72e404a9a36b"
      },
      "outputs": [
        {
          "output_type": "execute_result",
          "data": {
            "text/plain": [
              "array([nan, 'Abdominal Pain ', 'Biliary Stricture (Secondary to Stent) ',\n",
              "       'Cholecystitis', 'Cholecystitis ', 'Cholecystitis (Chronic) ',\n",
              "       'Cholecystitis (Chronic) Cholelithiasis',\n",
              "       'Cholecystitis (Chronic) Cholesterolsis', 'Choledochal Cyst ',\n",
              "       'Choledocholiathiasis', 'Choledocholiathiasis ',\n",
              "       'Cholelithiasis with adenomyomatous hyperplasia ',\n",
              "       'Duodenal Stricture', 'Duodenitis', 'Gallbladder polyps ',\n",
              "       'Gallbladder Porcelain', 'Gallstones', 'Gallstones ',\n",
              "       'Gallstones - Incidental ', 'Gastritis ', 'Gastritis and Reflux ',\n",
              "       'Ill defined lesion in uncinate process',\n",
              "       'Ischaemic Common Bile Duct Stricture',\n",
              "       'Pancreatitis (Pseudocyst)', 'Pancreatitis', 'Pancreatitis ',\n",
              "       'Pancreatitis (Abscess)', 'Pancreatitis (Acute)',\n",
              "       'Pancreatitis (Alcohol-Chronic-Pseuodcyst)',\n",
              "       'Pancreatitis (Alcohol-Chronic)', 'Pancreatitis (Alcohol)',\n",
              "       'Pancreatitis (Autoimmune) ', 'Pancreatitis (Chronic-Pseudocyst) ',\n",
              "       'Pancreatitis (Chronic) ',\n",
              "       'Pancreatitis (Chronic) (Later became PDAC)',\n",
              "       'Pancreatitis (Chronic) Choledocholithiasis',\n",
              "       'Pancreatitis (Gallstone-Alcohol-Pseudocyst)',\n",
              "       'Pancreatitis (Gallstone-Pseudocyst)', 'Pancreatitis (Gallstone) ',\n",
              "       'Pancreatitis (Hereditary-Chronic) ',\n",
              "       'Pancreatitis (Hypertriglyceridemia)', 'Pancreatitis (Idiopathic)',\n",
              "       'Pancreatitis (Idiopathic) ',\n",
              "       'Pancreato-jejunostomy Anastomoses Stricture',\n",
              "       'Premalignant lesions-Adenoma-NOS',\n",
              "       'Premalignant lesions-Mucinous cystadenocarcinoma-noninvasive',\n",
              "       'Premalignant lesions-Mucinous cystadenoma-NOS',\n",
              "       'Premalignant lesions-Tubular adenoma-NOS',\n",
              "       'Premalignant lesions-Tubulovillous adenoma-NOS',\n",
              "       'Premalignant lesions-Villous adenoma-NOS',\n",
              "       'Serous cystadenoma - NOS', 'Serous microcystic adenoma',\n",
              "       'Simple benign liver cyst'], dtype=object)"
            ]
          },
          "metadata": {},
          "execution_count": 59
        }
      ],
      "source": [
        "df['benign_sample_diagnosis'].unique()"
      ]
    },
    {
      "cell_type": "code",
      "execution_count": 60,
      "id": "ffcfced0",
      "metadata": {
        "execution": {
          "iopub.execute_input": "2023-05-01T23:59:20.122018Z",
          "iopub.status.busy": "2023-05-01T23:59:20.120932Z",
          "iopub.status.idle": "2023-05-01T23:59:20.126906Z",
          "shell.execute_reply": "2023-05-01T23:59:20.125717Z"
        },
        "papermill": {
          "duration": 0.0209,
          "end_time": "2023-05-01T23:59:20.129426",
          "exception": false,
          "start_time": "2023-05-01T23:59:20.108526",
          "status": "completed"
        },
        "tags": [],
        "id": "ffcfced0"
      },
      "outputs": [],
      "source": [
        "df['benign_sample_diagnosis']=df['benign_sample_diagnosis'].fillna(\"null\")"
      ]
    },
    {
      "cell_type": "code",
      "execution_count": 61,
      "id": "b69e3e89",
      "metadata": {
        "execution": {
          "iopub.execute_input": "2023-05-01T23:59:20.153900Z",
          "iopub.status.busy": "2023-05-01T23:59:20.153213Z",
          "iopub.status.idle": "2023-05-01T23:59:20.163145Z",
          "shell.execute_reply": "2023-05-01T23:59:20.162064Z"
        },
        "papermill": {
          "duration": 0.02468,
          "end_time": "2023-05-01T23:59:20.165357",
          "exception": false,
          "start_time": "2023-05-01T23:59:20.140677",
          "status": "completed"
        },
        "tags": [],
        "colab": {
          "base_uri": "https://localhost:8080/"
        },
        "id": "b69e3e89",
        "outputId": "f7701a85-213c-4fca-d2de-06c4de39234c"
      },
      "outputs": [
        {
          "output_type": "execute_result",
          "data": {
            "text/plain": [
              "patient_cohort               0\n",
              "sample_origin                0\n",
              "age                          0\n",
              "sex                          0\n",
              "diagnosis                    0\n",
              "stage                        0\n",
              "benign_sample_diagnosis      0\n",
              "plasma_CA19_9              240\n",
              "creatinine                   0\n",
              "LYVE1                        0\n",
              "REG1B                        0\n",
              "TFF1                         0\n",
              "REG1A                      284\n",
              "dtype: int64"
            ]
          },
          "metadata": {},
          "execution_count": 61
        }
      ],
      "source": [
        "df.isnull().sum()"
      ]
    },
    {
      "cell_type": "code",
      "execution_count": 62,
      "id": "3e915fcf",
      "metadata": {
        "execution": {
          "iopub.execute_input": "2023-05-01T23:59:20.189847Z",
          "iopub.status.busy": "2023-05-01T23:59:20.189152Z",
          "iopub.status.idle": "2023-05-01T23:59:20.195200Z",
          "shell.execute_reply": "2023-05-01T23:59:20.194361Z"
        },
        "papermill": {
          "duration": 0.021085,
          "end_time": "2023-05-01T23:59:20.197543",
          "exception": false,
          "start_time": "2023-05-01T23:59:20.176458",
          "status": "completed"
        },
        "tags": [],
        "id": "3e915fcf"
      },
      "outputs": [],
      "source": [
        "df['plasma_CA19_9']=df['plasma_CA19_9'].fillna(df['plasma_CA19_9'].mean())"
      ]
    },
    {
      "cell_type": "code",
      "execution_count": 63,
      "id": "c18f45b2",
      "metadata": {
        "execution": {
          "iopub.execute_input": "2023-05-01T23:59:20.222165Z",
          "iopub.status.busy": "2023-05-01T23:59:20.221477Z",
          "iopub.status.idle": "2023-05-01T23:59:20.227625Z",
          "shell.execute_reply": "2023-05-01T23:59:20.226609Z"
        },
        "papermill": {
          "duration": 0.021307,
          "end_time": "2023-05-01T23:59:20.229964",
          "exception": false,
          "start_time": "2023-05-01T23:59:20.208657",
          "status": "completed"
        },
        "tags": [],
        "id": "c18f45b2"
      },
      "outputs": [],
      "source": [
        "df['REG1A']=df['REG1A'].fillna(df['REG1A'].mean())"
      ]
    },
    {
      "cell_type": "code",
      "execution_count": 64,
      "id": "52cdee0f",
      "metadata": {
        "execution": {
          "iopub.execute_input": "2023-05-01T23:59:20.254807Z",
          "iopub.status.busy": "2023-05-01T23:59:20.253913Z",
          "iopub.status.idle": "2023-05-01T23:59:20.260630Z",
          "shell.execute_reply": "2023-05-01T23:59:20.259697Z"
        },
        "papermill": {
          "duration": 0.021574,
          "end_time": "2023-05-01T23:59:20.262860",
          "exception": false,
          "start_time": "2023-05-01T23:59:20.241286",
          "status": "completed"
        },
        "tags": [],
        "id": "52cdee0f"
      },
      "outputs": [],
      "source": [
        "df=df.drop(\"benign_sample_diagnosis\",axis=1)"
      ]
    },
    {
      "cell_type": "code",
      "execution_count": 65,
      "id": "2b47f0e1",
      "metadata": {
        "execution": {
          "iopub.execute_input": "2023-05-01T23:59:20.287585Z",
          "iopub.status.busy": "2023-05-01T23:59:20.286874Z",
          "iopub.status.idle": "2023-05-01T23:59:20.300243Z",
          "shell.execute_reply": "2023-05-01T23:59:20.298653Z"
        },
        "papermill": {
          "duration": 0.028655,
          "end_time": "2023-05-01T23:59:20.302695",
          "exception": false,
          "start_time": "2023-05-01T23:59:20.274040",
          "status": "completed"
        },
        "tags": [],
        "colab": {
          "base_uri": "https://localhost:8080/"
        },
        "id": "2b47f0e1",
        "outputId": "4df2c50f-1aec-4420-f2e4-5b9173223d55"
      },
      "outputs": [
        {
          "output_type": "stream",
          "name": "stdout",
          "text": [
            "<class 'pandas.core.frame.DataFrame'>\n",
            "RangeIndex: 590 entries, 0 to 589\n",
            "Data columns (total 12 columns):\n",
            " #   Column          Non-Null Count  Dtype  \n",
            "---  ------          --------------  -----  \n",
            " 0   patient_cohort  590 non-null    int64  \n",
            " 1   sample_origin   590 non-null    int64  \n",
            " 2   age             590 non-null    int64  \n",
            " 3   sex             590 non-null    int64  \n",
            " 4   diagnosis       590 non-null    int64  \n",
            " 5   stage           590 non-null    int64  \n",
            " 6   plasma_CA19_9   590 non-null    float64\n",
            " 7   creatinine      590 non-null    float64\n",
            " 8   LYVE1           590 non-null    float64\n",
            " 9   REG1B           590 non-null    float64\n",
            " 10  TFF1            590 non-null    float64\n",
            " 11  REG1A           590 non-null    float64\n",
            "dtypes: float64(6), int64(6)\n",
            "memory usage: 55.4 KB\n"
          ]
        }
      ],
      "source": [
        "df.info()"
      ]
    },
    {
      "cell_type": "code",
      "execution_count": 66,
      "id": "8dc42a1f",
      "metadata": {
        "execution": {
          "iopub.execute_input": "2023-05-01T23:59:20.327360Z",
          "iopub.status.busy": "2023-05-01T23:59:20.326555Z",
          "iopub.status.idle": "2023-05-01T23:59:20.332763Z",
          "shell.execute_reply": "2023-05-01T23:59:20.331549Z"
        },
        "papermill": {
          "duration": 0.021417,
          "end_time": "2023-05-01T23:59:20.335287",
          "exception": false,
          "start_time": "2023-05-01T23:59:20.313870",
          "status": "completed"
        },
        "tags": [],
        "id": "8dc42a1f"
      },
      "outputs": [],
      "source": [
        "X=df.drop(\"diagnosis\",axis=1)\n",
        "y=df['diagnosis']"
      ]
    },
    {
      "cell_type": "code",
      "execution_count": 67,
      "id": "5305023c",
      "metadata": {
        "execution": {
          "iopub.execute_input": "2023-05-01T23:59:20.360129Z",
          "iopub.status.busy": "2023-05-01T23:59:20.359165Z",
          "iopub.status.idle": "2023-05-01T23:59:20.388928Z",
          "shell.execute_reply": "2023-05-01T23:59:20.387638Z"
        },
        "papermill": {
          "duration": 0.04495,
          "end_time": "2023-05-01T23:59:20.391602",
          "exception": false,
          "start_time": "2023-05-01T23:59:20.346652",
          "status": "completed"
        },
        "tags": [],
        "colab": {
          "base_uri": "https://localhost:8080/",
          "height": 49
        },
        "id": "5305023c",
        "outputId": "ba6ee39a-715b-46c6-9db5-3b660d1ada3a"
      },
      "outputs": [
        {
          "output_type": "execute_result",
          "data": {
            "text/plain": [
              "Empty DataFrame\n",
              "Columns: [feature1, feature2, Correlation]\n",
              "Index: []"
            ],
            "text/html": [
              "\n",
              "  <div id=\"df-85aa4936-e267-4eca-8345-e53e9c623be9\">\n",
              "    <div class=\"colab-df-container\">\n",
              "      <div>\n",
              "<style scoped>\n",
              "    .dataframe tbody tr th:only-of-type {\n",
              "        vertical-align: middle;\n",
              "    }\n",
              "\n",
              "    .dataframe tbody tr th {\n",
              "        vertical-align: top;\n",
              "    }\n",
              "\n",
              "    .dataframe thead th {\n",
              "        text-align: right;\n",
              "    }\n",
              "</style>\n",
              "<table border=\"1\" class=\"dataframe\">\n",
              "  <thead>\n",
              "    <tr style=\"text-align: right;\">\n",
              "      <th></th>\n",
              "      <th>feature1</th>\n",
              "      <th>feature2</th>\n",
              "      <th>Correlation</th>\n",
              "    </tr>\n",
              "  </thead>\n",
              "  <tbody>\n",
              "  </tbody>\n",
              "</table>\n",
              "</div>\n",
              "      <button class=\"colab-df-convert\" onclick=\"convertToInteractive('df-85aa4936-e267-4eca-8345-e53e9c623be9')\"\n",
              "              title=\"Convert this dataframe to an interactive table.\"\n",
              "              style=\"display:none;\">\n",
              "        \n",
              "  <svg xmlns=\"http://www.w3.org/2000/svg\" height=\"24px\"viewBox=\"0 0 24 24\"\n",
              "       width=\"24px\">\n",
              "    <path d=\"M0 0h24v24H0V0z\" fill=\"none\"/>\n",
              "    <path d=\"M18.56 5.44l.94 2.06.94-2.06 2.06-.94-2.06-.94-.94-2.06-.94 2.06-2.06.94zm-11 1L8.5 8.5l.94-2.06 2.06-.94-2.06-.94L8.5 2.5l-.94 2.06-2.06.94zm10 10l.94 2.06.94-2.06 2.06-.94-2.06-.94-.94-2.06-.94 2.06-2.06.94z\"/><path d=\"M17.41 7.96l-1.37-1.37c-.4-.4-.92-.59-1.43-.59-.52 0-1.04.2-1.43.59L10.3 9.45l-7.72 7.72c-.78.78-.78 2.05 0 2.83L4 21.41c.39.39.9.59 1.41.59.51 0 1.02-.2 1.41-.59l7.78-7.78 2.81-2.81c.8-.78.8-2.07 0-2.86zM5.41 20L4 18.59l7.72-7.72 1.47 1.35L5.41 20z\"/>\n",
              "  </svg>\n",
              "      </button>\n",
              "      \n",
              "  <style>\n",
              "    .colab-df-container {\n",
              "      display:flex;\n",
              "      flex-wrap:wrap;\n",
              "      gap: 12px;\n",
              "    }\n",
              "\n",
              "    .colab-df-convert {\n",
              "      background-color: #E8F0FE;\n",
              "      border: none;\n",
              "      border-radius: 50%;\n",
              "      cursor: pointer;\n",
              "      display: none;\n",
              "      fill: #1967D2;\n",
              "      height: 32px;\n",
              "      padding: 0 0 0 0;\n",
              "      width: 32px;\n",
              "    }\n",
              "\n",
              "    .colab-df-convert:hover {\n",
              "      background-color: #E2EBFA;\n",
              "      box-shadow: 0px 1px 2px rgba(60, 64, 67, 0.3), 0px 1px 3px 1px rgba(60, 64, 67, 0.15);\n",
              "      fill: #174EA6;\n",
              "    }\n",
              "\n",
              "    [theme=dark] .colab-df-convert {\n",
              "      background-color: #3B4455;\n",
              "      fill: #D2E3FC;\n",
              "    }\n",
              "\n",
              "    [theme=dark] .colab-df-convert:hover {\n",
              "      background-color: #434B5C;\n",
              "      box-shadow: 0px 1px 3px 1px rgba(0, 0, 0, 0.15);\n",
              "      filter: drop-shadow(0px 1px 2px rgba(0, 0, 0, 0.3));\n",
              "      fill: #FFFFFF;\n",
              "    }\n",
              "  </style>\n",
              "\n",
              "      <script>\n",
              "        const buttonEl =\n",
              "          document.querySelector('#df-85aa4936-e267-4eca-8345-e53e9c623be9 button.colab-df-convert');\n",
              "        buttonEl.style.display =\n",
              "          google.colab.kernel.accessAllowed ? 'block' : 'none';\n",
              "\n",
              "        async function convertToInteractive(key) {\n",
              "          const element = document.querySelector('#df-85aa4936-e267-4eca-8345-e53e9c623be9');\n",
              "          const dataTable =\n",
              "            await google.colab.kernel.invokeFunction('convertToInteractive',\n",
              "                                                     [key], {});\n",
              "          if (!dataTable) return;\n",
              "\n",
              "          const docLinkHtml = 'Like what you see? Visit the ' +\n",
              "            '<a target=\"_blank\" href=https://colab.research.google.com/notebooks/data_table.ipynb>data table notebook</a>'\n",
              "            + ' to learn more about interactive tables.';\n",
              "          element.innerHTML = '';\n",
              "          dataTable['output_type'] = 'display_data';\n",
              "          await google.colab.output.renderOutput(dataTable, element);\n",
              "          const docLink = document.createElement('div');\n",
              "          docLink.innerHTML = docLinkHtml;\n",
              "          element.appendChild(docLink);\n",
              "        }\n",
              "      </script>\n",
              "    </div>\n",
              "  </div>\n",
              "  "
            ]
          },
          "metadata": {},
          "execution_count": 67
        }
      ],
      "source": [
        "# Build a Dataframe with Correlation between Features\n",
        "corr_matrix = X.corr()\n",
        "# Take absolute values of correlated coefficients\n",
        "corr_matrix = corr_matrix.abs().unstack()\n",
        "corr_matrix = corr_matrix.sort_values(ascending=False)\n",
        "# Take only features with correlation above threshold of 0.8\n",
        "corr_matrix = corr_matrix[corr_matrix >= 0.8]\n",
        "corr_matrix = corr_matrix[corr_matrix < 1]\n",
        "corr_matrix = pd.DataFrame(corr_matrix).reset_index()\n",
        "corr_matrix.columns = ['feature1', 'feature2', 'Correlation']\n",
        "corr_matrix.head()"
      ]
    },
    {
      "cell_type": "code",
      "execution_count": 68,
      "id": "21e6a269",
      "metadata": {
        "execution": {
          "iopub.execute_input": "2023-05-01T23:59:20.416470Z",
          "iopub.status.busy": "2023-05-01T23:59:20.416043Z",
          "iopub.status.idle": "2023-05-01T23:59:20.422311Z",
          "shell.execute_reply": "2023-05-01T23:59:20.421114Z"
        },
        "papermill": {
          "duration": 0.021532,
          "end_time": "2023-05-01T23:59:20.424728",
          "exception": false,
          "start_time": "2023-05-01T23:59:20.403196",
          "status": "completed"
        },
        "tags": [],
        "id": "21e6a269"
      },
      "outputs": [],
      "source": [
        "# Import label encoder\n",
        "from sklearn import preprocessing\n",
        "  \n",
        "# label_encoder object knows how to understand word labels.\n",
        "label_encoder = preprocessing.LabelEncoder()\n",
        "\n",
        "y= label_encoder.fit_transform(y)"
      ]
    },
    {
      "cell_type": "code",
      "execution_count": 69,
      "id": "c1464a73",
      "metadata": {
        "execution": {
          "iopub.execute_input": "2023-05-01T23:59:20.449923Z",
          "iopub.status.busy": "2023-05-01T23:59:20.449497Z",
          "iopub.status.idle": "2023-05-01T23:59:20.519914Z",
          "shell.execute_reply": "2023-05-01T23:59:20.518816Z"
        },
        "papermill": {
          "duration": 0.086278,
          "end_time": "2023-05-01T23:59:20.522551",
          "exception": false,
          "start_time": "2023-05-01T23:59:20.436273",
          "status": "completed"
        },
        "tags": [],
        "id": "c1464a73"
      },
      "outputs": [],
      "source": [
        "from sklearn.model_selection import train_test_split\n",
        "X_train, X_test, y_train, y_test = train_test_split(X, y, test_size=0.33, random_state=42)"
      ]
    },
    {
      "cell_type": "markdown",
      "id": "1148660d",
      "metadata": {
        "papermill": {
          "duration": 0.011612,
          "end_time": "2023-05-01T23:59:20.545901",
          "exception": false,
          "start_time": "2023-05-01T23:59:20.534289",
          "status": "completed"
        },
        "tags": [],
        "id": "1148660d"
      },
      "source": [
        "## LightGBM -Highest Accuracy"
      ]
    },
    {
      "cell_type": "code",
      "execution_count": 70,
      "id": "e64446ae",
      "metadata": {
        "execution": {
          "iopub.execute_input": "2023-05-01T23:59:20.571066Z",
          "iopub.status.busy": "2023-05-01T23:59:20.570626Z",
          "iopub.status.idle": "2023-05-01T23:59:22.658782Z",
          "shell.execute_reply": "2023-05-01T23:59:22.657214Z"
        },
        "papermill": {
          "duration": 2.104039,
          "end_time": "2023-05-01T23:59:22.661604",
          "exception": false,
          "start_time": "2023-05-01T23:59:20.557565",
          "status": "completed"
        },
        "tags": [],
        "colab": {
          "base_uri": "https://localhost:8080/"
        },
        "id": "e64446ae",
        "outputId": "b49a4658-5cc2-4be5-9909-faac4d96b2de"
      },
      "outputs": [
        {
          "output_type": "stream",
          "name": "stdout",
          "text": [
            "LightGBM Model accuracy score: 87.6923\n"
          ]
        }
      ],
      "source": [
        "from sklearn.metrics import accuracy_score\n",
        "import lightgbm as lgb\n",
        "clf = lgb.LGBMClassifier()\n",
        "clf.fit(X_train, y_train)\n",
        "y_pred=clf.predict(X_test)\n",
        "accuracy=accuracy_score(y_pred, y_test)\n",
        "print('LightGBM Model accuracy score: {0:0.4f}'.format(accuracy_score(y_test, y_pred)*100))"
      ]
    },
    {
      "cell_type": "code",
      "execution_count": 71,
      "id": "250cbbbe",
      "metadata": {
        "execution": {
          "iopub.execute_input": "2023-05-01T23:59:22.687170Z",
          "iopub.status.busy": "2023-05-01T23:59:22.686741Z",
          "iopub.status.idle": "2023-05-01T23:59:22.694668Z",
          "shell.execute_reply": "2023-05-01T23:59:22.693576Z"
        },
        "papermill": {
          "duration": 0.023366,
          "end_time": "2023-05-01T23:59:22.696867",
          "exception": false,
          "start_time": "2023-05-01T23:59:22.673501",
          "status": "completed"
        },
        "tags": [],
        "colab": {
          "base_uri": "https://localhost:8080/"
        },
        "id": "250cbbbe",
        "outputId": "8f6cec6d-4ad0-41ad-d2b0-da8ad13b5751"
      },
      "outputs": [
        {
          "output_type": "execute_result",
          "data": {
            "text/plain": [
              "(0.8832403832403832, 0.8824074074074074, 0.8827054794520549, None)"
            ]
          },
          "metadata": {},
          "execution_count": 71
        }
      ],
      "source": [
        "from sklearn.metrics import precision_recall_fscore_support\n",
        "precision_recall_fscore_support(y_test, y_pred, average='macro')"
      ]
    },
    {
      "cell_type": "markdown",
      "id": "d3b7434a",
      "metadata": {
        "papermill": {
          "duration": 0.011594,
          "end_time": "2023-05-01T23:59:22.720190",
          "exception": false,
          "start_time": "2023-05-01T23:59:22.708596",
          "status": "completed"
        },
        "tags": [],
        "id": "d3b7434a"
      },
      "source": [
        "## Random Forest"
      ]
    },
    {
      "cell_type": "code",
      "execution_count": 72,
      "id": "1f26e468",
      "metadata": {
        "execution": {
          "iopub.execute_input": "2023-05-01T23:59:22.745647Z",
          "iopub.status.busy": "2023-05-01T23:59:22.744832Z",
          "iopub.status.idle": "2023-05-01T23:59:23.266312Z",
          "shell.execute_reply": "2023-05-01T23:59:23.265369Z"
        },
        "papermill": {
          "duration": 0.537352,
          "end_time": "2023-05-01T23:59:23.269134",
          "exception": false,
          "start_time": "2023-05-01T23:59:22.731782",
          "status": "completed"
        },
        "tags": [],
        "id": "1f26e468"
      },
      "outputs": [],
      "source": [
        "from sklearn.ensemble import RandomForestClassifier\n",
        "clf = RandomForestClassifier(n_estimators = 100) \n",
        " \n",
        "# Training the model on the training dataset\n",
        "# fit function is used to train the model using the training sets as parameters\n",
        "clf.fit(X_train, y_train)\n",
        " \n",
        "# performing predictions on the test dataset\n",
        "y_pred8 = clf.predict(X_test)\n",
        " "
      ]
    },
    {
      "cell_type": "code",
      "execution_count": 73,
      "id": "cdc434bf",
      "metadata": {
        "execution": {
          "iopub.execute_input": "2023-05-01T23:59:23.296413Z",
          "iopub.status.busy": "2023-05-01T23:59:23.295563Z",
          "iopub.status.idle": "2023-05-01T23:59:23.302024Z",
          "shell.execute_reply": "2023-05-01T23:59:23.300807Z"
        },
        "papermill": {
          "duration": 0.022589,
          "end_time": "2023-05-01T23:59:23.304145",
          "exception": false,
          "start_time": "2023-05-01T23:59:23.281556",
          "status": "completed"
        },
        "tags": [],
        "colab": {
          "base_uri": "https://localhost:8080/"
        },
        "id": "cdc434bf",
        "outputId": "4f497649-0494-43c5-b975-226a89d3f370"
      },
      "outputs": [
        {
          "output_type": "stream",
          "name": "stdout",
          "text": [
            "\n",
            "87.6923076923077\n"
          ]
        }
      ],
      "source": [
        "# metrics are used to find accuracy or error\n",
        "from sklearn import metrics \n",
        "print()\n",
        " \n",
        "# using metrics module for accuracy calculation\n",
        "print( metrics.accuracy_score(y_test, y_pred8)*100)"
      ]
    },
    {
      "cell_type": "code",
      "execution_count": 74,
      "id": "54c8f807",
      "metadata": {
        "execution": {
          "iopub.execute_input": "2023-05-01T23:59:23.330222Z",
          "iopub.status.busy": "2023-05-01T23:59:23.329817Z",
          "iopub.status.idle": "2023-05-01T23:59:23.340630Z",
          "shell.execute_reply": "2023-05-01T23:59:23.339524Z"
        },
        "papermill": {
          "duration": 0.027104,
          "end_time": "2023-05-01T23:59:23.343425",
          "exception": false,
          "start_time": "2023-05-01T23:59:23.316321",
          "status": "completed"
        },
        "tags": [],
        "colab": {
          "base_uri": "https://localhost:8080/"
        },
        "id": "54c8f807",
        "outputId": "d20d3670-84ef-4d0e-e990-2fb1d156ec3f"
      },
      "outputs": [
        {
          "output_type": "execute_result",
          "data": {
            "text/plain": [
              "(0.8850499782703173, 0.8814102564102564, 0.8821505376344086, None)"
            ]
          },
          "metadata": {},
          "execution_count": 74
        }
      ],
      "source": [
        "from sklearn.metrics import precision_recall_fscore_support\n",
        "precision_recall_fscore_support(y_test, y_pred8, average='macro')"
      ]
    },
    {
      "cell_type": "markdown",
      "id": "6254fe6b",
      "metadata": {
        "papermill": {
          "duration": 0.011996,
          "end_time": "2023-05-01T23:59:23.367826",
          "exception": false,
          "start_time": "2023-05-01T23:59:23.355830",
          "status": "completed"
        },
        "tags": [],
        "id": "6254fe6b"
      },
      "source": [
        "## Extratree classifier"
      ]
    },
    {
      "cell_type": "code",
      "execution_count": 75,
      "id": "9a6c8725",
      "metadata": {
        "execution": {
          "iopub.execute_input": "2023-05-01T23:59:23.394207Z",
          "iopub.status.busy": "2023-05-01T23:59:23.393800Z",
          "iopub.status.idle": "2023-05-01T23:59:23.544749Z",
          "shell.execute_reply": "2023-05-01T23:59:23.543283Z"
        },
        "papermill": {
          "duration": 0.167296,
          "end_time": "2023-05-01T23:59:23.547328",
          "exception": false,
          "start_time": "2023-05-01T23:59:23.380032",
          "status": "completed"
        },
        "tags": [],
        "colab": {
          "base_uri": "https://localhost:8080/"
        },
        "id": "9a6c8725",
        "outputId": "7cf03156-9ee1-4b3b-ae36-d732f9b6cc8d"
      },
      "outputs": [
        {
          "output_type": "stream",
          "name": "stdout",
          "text": [
            "85.12820512820512\n"
          ]
        }
      ],
      "source": [
        "from sklearn.ensemble import ExtraTreesClassifier\n",
        "clf = ExtraTreesClassifier(n_estimators=100,max_depth=6,min_samples_split=2,min_weight_fraction_leaf =0.0,n_jobs=-1)\n",
        "clf.fit(X_train, y_train)\n",
        "print(clf.score(X_test, y_test)*100)\n",
        "y_pred9 = clf.predict(X_test)"
      ]
    },
    {
      "cell_type": "code",
      "execution_count": 76,
      "id": "06b3156d",
      "metadata": {
        "execution": {
          "iopub.execute_input": "2023-05-01T23:59:23.573272Z",
          "iopub.status.busy": "2023-05-01T23:59:23.572865Z",
          "iopub.status.idle": "2023-05-01T23:59:23.582487Z",
          "shell.execute_reply": "2023-05-01T23:59:23.581453Z"
        },
        "papermill": {
          "duration": 0.02538,
          "end_time": "2023-05-01T23:59:23.584741",
          "exception": false,
          "start_time": "2023-05-01T23:59:23.559361",
          "status": "completed"
        },
        "tags": [],
        "colab": {
          "base_uri": "https://localhost:8080/"
        },
        "id": "06b3156d",
        "outputId": "f5f263d6-26f1-4f29-c25f-0b44fbcc59c6"
      },
      "outputs": [
        {
          "output_type": "execute_result",
          "data": {
            "text/plain": [
              "(0.8663650075414782, 0.8552706552706552, 0.8558077921135245, None)"
            ]
          },
          "metadata": {},
          "execution_count": 76
        }
      ],
      "source": [
        "from sklearn.metrics import precision_recall_fscore_support\n",
        "precision_recall_fscore_support(y_test, y_pred9, average='macro')"
      ]
    },
    {
      "cell_type": "markdown",
      "id": "2dc5a058",
      "metadata": {
        "papermill": {
          "duration": 0.011627,
          "end_time": "2023-05-01T23:59:23.608679",
          "exception": false,
          "start_time": "2023-05-01T23:59:23.597052",
          "status": "completed"
        },
        "tags": [],
        "id": "2dc5a058"
      },
      "source": [
        "## Xgboost"
      ]
    },
    {
      "cell_type": "code",
      "execution_count": 77,
      "id": "f10a8b88",
      "metadata": {
        "execution": {
          "iopub.execute_input": "2023-05-01T23:59:23.635043Z",
          "iopub.status.busy": "2023-05-01T23:59:23.634641Z",
          "iopub.status.idle": "2023-05-01T23:59:24.117320Z",
          "shell.execute_reply": "2023-05-01T23:59:24.116120Z"
        },
        "papermill": {
          "duration": 0.498953,
          "end_time": "2023-05-01T23:59:24.119804",
          "exception": false,
          "start_time": "2023-05-01T23:59:23.620851",
          "status": "completed"
        },
        "tags": [],
        "colab": {
          "base_uri": "https://localhost:8080/"
        },
        "id": "f10a8b88",
        "outputId": "4540bb54-9c12-4bd7-8f51-dae66b6e3e21"
      },
      "outputs": [
        {
          "output_type": "stream",
          "name": "stdout",
          "text": [
            "87.17948717948718\n"
          ]
        }
      ],
      "source": [
        "from xgboost import XGBClassifier\n",
        "from sklearn.metrics import accuracy_score\n",
        "model = XGBClassifier(eval_metric='mlogloss')\n",
        "model.fit(X_train, y_train)\n",
        "y_pred1 = model.predict(X_test)\n",
        "accuracy = accuracy_score(y_test, y_pred1)\n",
        "print(accuracy*100)"
      ]
    },
    {
      "cell_type": "code",
      "execution_count": 78,
      "id": "0a09fa75",
      "metadata": {
        "execution": {
          "iopub.execute_input": "2023-05-01T23:59:24.146486Z",
          "iopub.status.busy": "2023-05-01T23:59:24.146071Z",
          "iopub.status.idle": "2023-05-01T23:59:24.153533Z",
          "shell.execute_reply": "2023-05-01T23:59:24.152695Z"
        },
        "papermill": {
          "duration": 0.023543,
          "end_time": "2023-05-01T23:59:24.156139",
          "exception": false,
          "start_time": "2023-05-01T23:59:24.132596",
          "status": "completed"
        },
        "tags": [],
        "colab": {
          "base_uri": "https://localhost:8080/"
        },
        "id": "0a09fa75",
        "outputId": "918f9c5c-25aa-47b5-ec14-585fa35a2dc9"
      },
      "outputs": [
        {
          "output_type": "execute_result",
          "data": {
            "text/plain": [
              "(0.8795093795093796, 0.8767806267806267, 0.8774049217002237, None)"
            ]
          },
          "metadata": {},
          "execution_count": 78
        }
      ],
      "source": [
        "from sklearn.metrics import precision_recall_fscore_support\n",
        "precision_recall_fscore_support(y_test, y_pred1, average='macro')"
      ]
    },
    {
      "cell_type": "code",
      "source": [],
      "metadata": {
        "id": "TZKsQIDmPN8c"
      },
      "id": "TZKsQIDmPN8c",
      "execution_count": 78,
      "outputs": []
    }
  ],
  "metadata": {
    "kernelspec": {
      "display_name": "Python 3",
      "language": "python",
      "name": "python3"
    },
    "language_info": {
      "codemirror_mode": {
        "name": "ipython",
        "version": 3
      },
      "file_extension": ".py",
      "mimetype": "text/x-python",
      "name": "python",
      "nbconvert_exporter": "python",
      "pygments_lexer": "ipython3",
      "version": "3.7.12"
    },
    "papermill": {
      "default_parameters": {},
      "duration": 17.714887,
      "end_time": "2023-05-01T23:59:24.992098",
      "environment_variables": {},
      "exception": null,
      "input_path": "__notebook__.ipynb",
      "output_path": "__notebook__.ipynb",
      "parameters": {},
      "start_time": "2023-05-01T23:59:07.277211",
      "version": "2.4.0"
    },
    "colab": {
      "provenance": [],
      "include_colab_link": true
    },
    "gpuClass": "standard"
  },
  "nbformat": 4,
  "nbformat_minor": 5
}